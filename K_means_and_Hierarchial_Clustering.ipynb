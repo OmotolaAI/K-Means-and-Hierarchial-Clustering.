{
  "cells": [
    {
      "cell_type": "markdown",
      "metadata": {
        "id": "view-in-github",
        "colab_type": "text"
      },
      "source": [
        "<a href=\"https://colab.research.google.com/github/OmotolaAI/K-Means-and-Hierarchial-Clustering./blob/main/K_means_and_Hierarchial_Clustering.ipynb\" target=\"_parent\"><img src=\"https://colab.research.google.com/assets/colab-badge.svg\" alt=\"Open In Colab\"/></a>"
      ]
    },
    {
      "cell_type": "markdown",
      "metadata": {
        "id": "rMygffoop7Rf"
      },
      "source": [
        "**1. Load Data File.**"
      ]
    },
    {
      "cell_type": "markdown",
      "metadata": {
        "id": "t5c7IGFdqejg"
      },
      "source": [
        "Set Up Initial Libraries;"
      ]
    },
    {
      "cell_type": "code",
      "execution_count": null,
      "metadata": {
        "id": "u1sH6Y2-sMhF"
      },
      "outputs": [],
      "source": [
        "import pandas as pd"
      ]
    },
    {
      "cell_type": "markdown",
      "metadata": {
        "id": "Yu7OsAkAsVSu"
      },
      "source": [
        "Import Dataset;"
      ]
    },
    {
      "cell_type": "code",
      "execution_count": null,
      "metadata": {
        "id": "WkkYK4rcs-2g"
      },
      "outputs": [],
      "source": [
        "cc= pd.read_csv(\"/content/CC GENERAL.csv\", delimiter= \",\")"
      ]
    },
    {
      "cell_type": "markdown",
      "metadata": {
        "id": "N6VQ6Mqqts66"
      },
      "source": [
        "Show Dataset Head;"
      ]
    },
    {
      "cell_type": "code",
      "execution_count": null,
      "metadata": {
        "colab": {
          "base_uri": "https://localhost:8080/",
          "height": 270
        },
        "id": "5JESfRrItzS3",
        "outputId": "b2000563-375a-4612-dc30-bf631b5e5835"
      },
      "outputs": [
        {
          "output_type": "execute_result",
          "data": {
            "text/plain": [
              "  CUST_ID      BALANCE  BALANCE_FREQUENCY  PURCHASES  ONEOFF_PURCHASES  \\\n",
              "0  C10001    40.900749           0.818182      95.40              0.00   \n",
              "1  C10002  3202.467416           0.909091       0.00              0.00   \n",
              "2  C10003  2495.148862           1.000000     773.17            773.17   \n",
              "3  C10004  1666.670542           0.636364    1499.00           1499.00   \n",
              "4  C10005   817.714335           1.000000      16.00             16.00   \n",
              "\n",
              "   INSTALLMENTS_PURCHASES  CASH_ADVANCE  PURCHASES_FREQUENCY  \\\n",
              "0                    95.4      0.000000             0.166667   \n",
              "1                     0.0   6442.945483             0.000000   \n",
              "2                     0.0      0.000000             1.000000   \n",
              "3                     0.0    205.788017             0.083333   \n",
              "4                     0.0      0.000000             0.083333   \n",
              "\n",
              "   ONEOFF_PURCHASES_FREQUENCY  PURCHASES_INSTALLMENTS_FREQUENCY  \\\n",
              "0                    0.000000                          0.083333   \n",
              "1                    0.000000                          0.000000   \n",
              "2                    1.000000                          0.000000   \n",
              "3                    0.083333                          0.000000   \n",
              "4                    0.083333                          0.000000   \n",
              "\n",
              "   CASH_ADVANCE_FREQUENCY  CASH_ADVANCE_TRX  PURCHASES_TRX  CREDIT_LIMIT  \\\n",
              "0                0.000000                 0              2        1000.0   \n",
              "1                0.250000                 4              0        7000.0   \n",
              "2                0.000000                 0             12        7500.0   \n",
              "3                0.083333                 1              1        7500.0   \n",
              "4                0.000000                 0              1        1200.0   \n",
              "\n",
              "      PAYMENTS  MINIMUM_PAYMENTS  PRC_FULL_PAYMENT  TENURE  \n",
              "0   201.802084        139.509787          0.000000      12  \n",
              "1  4103.032597       1072.340217          0.222222      12  \n",
              "2   622.066742        627.284787          0.000000      12  \n",
              "3     0.000000               NaN          0.000000      12  \n",
              "4   678.334763        244.791237          0.000000      12  "
            ],
            "text/html": [
              "\n",
              "  <div id=\"df-5d3fedd3-a1cf-47f1-bf9f-7822a8660122\">\n",
              "    <div class=\"colab-df-container\">\n",
              "      <div>\n",
              "<style scoped>\n",
              "    .dataframe tbody tr th:only-of-type {\n",
              "        vertical-align: middle;\n",
              "    }\n",
              "\n",
              "    .dataframe tbody tr th {\n",
              "        vertical-align: top;\n",
              "    }\n",
              "\n",
              "    .dataframe thead th {\n",
              "        text-align: right;\n",
              "    }\n",
              "</style>\n",
              "<table border=\"1\" class=\"dataframe\">\n",
              "  <thead>\n",
              "    <tr style=\"text-align: right;\">\n",
              "      <th></th>\n",
              "      <th>CUST_ID</th>\n",
              "      <th>BALANCE</th>\n",
              "      <th>BALANCE_FREQUENCY</th>\n",
              "      <th>PURCHASES</th>\n",
              "      <th>ONEOFF_PURCHASES</th>\n",
              "      <th>INSTALLMENTS_PURCHASES</th>\n",
              "      <th>CASH_ADVANCE</th>\n",
              "      <th>PURCHASES_FREQUENCY</th>\n",
              "      <th>ONEOFF_PURCHASES_FREQUENCY</th>\n",
              "      <th>PURCHASES_INSTALLMENTS_FREQUENCY</th>\n",
              "      <th>CASH_ADVANCE_FREQUENCY</th>\n",
              "      <th>CASH_ADVANCE_TRX</th>\n",
              "      <th>PURCHASES_TRX</th>\n",
              "      <th>CREDIT_LIMIT</th>\n",
              "      <th>PAYMENTS</th>\n",
              "      <th>MINIMUM_PAYMENTS</th>\n",
              "      <th>PRC_FULL_PAYMENT</th>\n",
              "      <th>TENURE</th>\n",
              "    </tr>\n",
              "  </thead>\n",
              "  <tbody>\n",
              "    <tr>\n",
              "      <th>0</th>\n",
              "      <td>C10001</td>\n",
              "      <td>40.900749</td>\n",
              "      <td>0.818182</td>\n",
              "      <td>95.40</td>\n",
              "      <td>0.00</td>\n",
              "      <td>95.4</td>\n",
              "      <td>0.000000</td>\n",
              "      <td>0.166667</td>\n",
              "      <td>0.000000</td>\n",
              "      <td>0.083333</td>\n",
              "      <td>0.000000</td>\n",
              "      <td>0</td>\n",
              "      <td>2</td>\n",
              "      <td>1000.0</td>\n",
              "      <td>201.802084</td>\n",
              "      <td>139.509787</td>\n",
              "      <td>0.000000</td>\n",
              "      <td>12</td>\n",
              "    </tr>\n",
              "    <tr>\n",
              "      <th>1</th>\n",
              "      <td>C10002</td>\n",
              "      <td>3202.467416</td>\n",
              "      <td>0.909091</td>\n",
              "      <td>0.00</td>\n",
              "      <td>0.00</td>\n",
              "      <td>0.0</td>\n",
              "      <td>6442.945483</td>\n",
              "      <td>0.000000</td>\n",
              "      <td>0.000000</td>\n",
              "      <td>0.000000</td>\n",
              "      <td>0.250000</td>\n",
              "      <td>4</td>\n",
              "      <td>0</td>\n",
              "      <td>7000.0</td>\n",
              "      <td>4103.032597</td>\n",
              "      <td>1072.340217</td>\n",
              "      <td>0.222222</td>\n",
              "      <td>12</td>\n",
              "    </tr>\n",
              "    <tr>\n",
              "      <th>2</th>\n",
              "      <td>C10003</td>\n",
              "      <td>2495.148862</td>\n",
              "      <td>1.000000</td>\n",
              "      <td>773.17</td>\n",
              "      <td>773.17</td>\n",
              "      <td>0.0</td>\n",
              "      <td>0.000000</td>\n",
              "      <td>1.000000</td>\n",
              "      <td>1.000000</td>\n",
              "      <td>0.000000</td>\n",
              "      <td>0.000000</td>\n",
              "      <td>0</td>\n",
              "      <td>12</td>\n",
              "      <td>7500.0</td>\n",
              "      <td>622.066742</td>\n",
              "      <td>627.284787</td>\n",
              "      <td>0.000000</td>\n",
              "      <td>12</td>\n",
              "    </tr>\n",
              "    <tr>\n",
              "      <th>3</th>\n",
              "      <td>C10004</td>\n",
              "      <td>1666.670542</td>\n",
              "      <td>0.636364</td>\n",
              "      <td>1499.00</td>\n",
              "      <td>1499.00</td>\n",
              "      <td>0.0</td>\n",
              "      <td>205.788017</td>\n",
              "      <td>0.083333</td>\n",
              "      <td>0.083333</td>\n",
              "      <td>0.000000</td>\n",
              "      <td>0.083333</td>\n",
              "      <td>1</td>\n",
              "      <td>1</td>\n",
              "      <td>7500.0</td>\n",
              "      <td>0.000000</td>\n",
              "      <td>NaN</td>\n",
              "      <td>0.000000</td>\n",
              "      <td>12</td>\n",
              "    </tr>\n",
              "    <tr>\n",
              "      <th>4</th>\n",
              "      <td>C10005</td>\n",
              "      <td>817.714335</td>\n",
              "      <td>1.000000</td>\n",
              "      <td>16.00</td>\n",
              "      <td>16.00</td>\n",
              "      <td>0.0</td>\n",
              "      <td>0.000000</td>\n",
              "      <td>0.083333</td>\n",
              "      <td>0.083333</td>\n",
              "      <td>0.000000</td>\n",
              "      <td>0.000000</td>\n",
              "      <td>0</td>\n",
              "      <td>1</td>\n",
              "      <td>1200.0</td>\n",
              "      <td>678.334763</td>\n",
              "      <td>244.791237</td>\n",
              "      <td>0.000000</td>\n",
              "      <td>12</td>\n",
              "    </tr>\n",
              "  </tbody>\n",
              "</table>\n",
              "</div>\n",
              "      <button class=\"colab-df-convert\" onclick=\"convertToInteractive('df-5d3fedd3-a1cf-47f1-bf9f-7822a8660122')\"\n",
              "              title=\"Convert this dataframe to an interactive table.\"\n",
              "              style=\"display:none;\">\n",
              "        \n",
              "  <svg xmlns=\"http://www.w3.org/2000/svg\" height=\"24px\"viewBox=\"0 0 24 24\"\n",
              "       width=\"24px\">\n",
              "    <path d=\"M0 0h24v24H0V0z\" fill=\"none\"/>\n",
              "    <path d=\"M18.56 5.44l.94 2.06.94-2.06 2.06-.94-2.06-.94-.94-2.06-.94 2.06-2.06.94zm-11 1L8.5 8.5l.94-2.06 2.06-.94-2.06-.94L8.5 2.5l-.94 2.06-2.06.94zm10 10l.94 2.06.94-2.06 2.06-.94-2.06-.94-.94-2.06-.94 2.06-2.06.94z\"/><path d=\"M17.41 7.96l-1.37-1.37c-.4-.4-.92-.59-1.43-.59-.52 0-1.04.2-1.43.59L10.3 9.45l-7.72 7.72c-.78.78-.78 2.05 0 2.83L4 21.41c.39.39.9.59 1.41.59.51 0 1.02-.2 1.41-.59l7.78-7.78 2.81-2.81c.8-.78.8-2.07 0-2.86zM5.41 20L4 18.59l7.72-7.72 1.47 1.35L5.41 20z\"/>\n",
              "  </svg>\n",
              "      </button>\n",
              "      \n",
              "  <style>\n",
              "    .colab-df-container {\n",
              "      display:flex;\n",
              "      flex-wrap:wrap;\n",
              "      gap: 12px;\n",
              "    }\n",
              "\n",
              "    .colab-df-convert {\n",
              "      background-color: #E8F0FE;\n",
              "      border: none;\n",
              "      border-radius: 50%;\n",
              "      cursor: pointer;\n",
              "      display: none;\n",
              "      fill: #1967D2;\n",
              "      height: 32px;\n",
              "      padding: 0 0 0 0;\n",
              "      width: 32px;\n",
              "    }\n",
              "\n",
              "    .colab-df-convert:hover {\n",
              "      background-color: #E2EBFA;\n",
              "      box-shadow: 0px 1px 2px rgba(60, 64, 67, 0.3), 0px 1px 3px 1px rgba(60, 64, 67, 0.15);\n",
              "      fill: #174EA6;\n",
              "    }\n",
              "\n",
              "    [theme=dark] .colab-df-convert {\n",
              "      background-color: #3B4455;\n",
              "      fill: #D2E3FC;\n",
              "    }\n",
              "\n",
              "    [theme=dark] .colab-df-convert:hover {\n",
              "      background-color: #434B5C;\n",
              "      box-shadow: 0px 1px 3px 1px rgba(0, 0, 0, 0.15);\n",
              "      filter: drop-shadow(0px 1px 2px rgba(0, 0, 0, 0.3));\n",
              "      fill: #FFFFFF;\n",
              "    }\n",
              "  </style>\n",
              "\n",
              "      <script>\n",
              "        const buttonEl =\n",
              "          document.querySelector('#df-5d3fedd3-a1cf-47f1-bf9f-7822a8660122 button.colab-df-convert');\n",
              "        buttonEl.style.display =\n",
              "          google.colab.kernel.accessAllowed ? 'block' : 'none';\n",
              "\n",
              "        async function convertToInteractive(key) {\n",
              "          const element = document.querySelector('#df-5d3fedd3-a1cf-47f1-bf9f-7822a8660122');\n",
              "          const dataTable =\n",
              "            await google.colab.kernel.invokeFunction('convertToInteractive',\n",
              "                                                     [key], {});\n",
              "          if (!dataTable) return;\n",
              "\n",
              "          const docLinkHtml = 'Like what you see? Visit the ' +\n",
              "            '<a target=\"_blank\" href=https://colab.research.google.com/notebooks/data_table.ipynb>data table notebook</a>'\n",
              "            + ' to learn more about interactive tables.';\n",
              "          element.innerHTML = '';\n",
              "          dataTable['output_type'] = 'display_data';\n",
              "          await google.colab.output.renderOutput(dataTable, element);\n",
              "          const docLink = document.createElement('div');\n",
              "          docLink.innerHTML = docLinkHtml;\n",
              "          element.appendChild(docLink);\n",
              "        }\n",
              "      </script>\n",
              "    </div>\n",
              "  </div>\n",
              "  "
            ]
          },
          "metadata": {},
          "execution_count": 16
        }
      ],
      "source": [
        "cc.head()"
      ]
    },
    {
      "cell_type": "markdown",
      "metadata": {
        "id": "o4t6TSdKt8JD"
      },
      "source": [
        "Find the number of missing values on each column;"
      ]
    },
    {
      "cell_type": "code",
      "execution_count": null,
      "metadata": {
        "colab": {
          "base_uri": "https://localhost:8080/"
        },
        "id": "z0LKNomdvI7d",
        "outputId": "46333e47-09b3-4125-f523-437d4b827e48"
      },
      "outputs": [
        {
          "output_type": "execute_result",
          "data": {
            "text/plain": [
              "CUST_ID                               0\n",
              "BALANCE                               0\n",
              "BALANCE_FREQUENCY                     0\n",
              "PURCHASES                             0\n",
              "ONEOFF_PURCHASES                      0\n",
              "INSTALLMENTS_PURCHASES                0\n",
              "CASH_ADVANCE                          0\n",
              "PURCHASES_FREQUENCY                   0\n",
              "ONEOFF_PURCHASES_FREQUENCY            0\n",
              "PURCHASES_INSTALLMENTS_FREQUENCY      0\n",
              "CASH_ADVANCE_FREQUENCY                0\n",
              "CASH_ADVANCE_TRX                      0\n",
              "PURCHASES_TRX                         0\n",
              "CREDIT_LIMIT                          1\n",
              "PAYMENTS                              0\n",
              "MINIMUM_PAYMENTS                    313\n",
              "PRC_FULL_PAYMENT                      0\n",
              "TENURE                                0\n",
              "dtype: int64"
            ]
          },
          "metadata": {},
          "execution_count": 17
        }
      ],
      "source": [
        "cc.isnull().sum()"
      ]
    },
    {
      "cell_type": "markdown",
      "metadata": {
        "id": "OWhFVkyxw0CU"
      },
      "source": [
        "It is evident that only two features have missing values;\n",
        "\n",
        "1. \"MINIMUM PAYMENTS\"= 313 values are missing.\n",
        "2. \"CREDIT LIMIT\" = 1 value is missing."
      ]
    },
    {
      "cell_type": "markdown",
      "metadata": {
        "id": "lYFJgi6nvYRM"
      },
      "source": [
        "Replace missing values for both features;"
      ]
    },
    {
      "cell_type": "code",
      "execution_count": null,
      "metadata": {
        "id": "QkombhpnwN3d"
      },
      "outputs": [],
      "source": [
        "cc[\"CREDIT_LIMIT\"].fillna(cc[\"CREDIT_LIMIT\"].mean(), inplace=True)"
      ]
    },
    {
      "cell_type": "code",
      "execution_count": null,
      "metadata": {
        "id": "44ApbZbq0NfN"
      },
      "outputs": [],
      "source": [
        "cc['MINIMUM_PAYMENTS'].fillna(cc['MINIMUM_PAYMENTS'].median(), inplace=True)"
      ]
    },
    {
      "cell_type": "markdown",
      "metadata": {
        "id": "la28Qqm10nvl"
      },
      "source": [
        "Verify Data;"
      ]
    },
    {
      "cell_type": "code",
      "execution_count": null,
      "metadata": {
        "colab": {
          "base_uri": "https://localhost:8080/"
        },
        "id": "SBmFgdIq0rYD",
        "outputId": "f18e2a04-a897-4154-caf1-d23a045baeaf"
      },
      "outputs": [
        {
          "output_type": "execute_result",
          "data": {
            "text/plain": [
              "CUST_ID                             0\n",
              "BALANCE                             0\n",
              "BALANCE_FREQUENCY                   0\n",
              "PURCHASES                           0\n",
              "ONEOFF_PURCHASES                    0\n",
              "INSTALLMENTS_PURCHASES              0\n",
              "CASH_ADVANCE                        0\n",
              "PURCHASES_FREQUENCY                 0\n",
              "ONEOFF_PURCHASES_FREQUENCY          0\n",
              "PURCHASES_INSTALLMENTS_FREQUENCY    0\n",
              "CASH_ADVANCE_FREQUENCY              0\n",
              "CASH_ADVANCE_TRX                    0\n",
              "PURCHASES_TRX                       0\n",
              "CREDIT_LIMIT                        0\n",
              "PAYMENTS                            0\n",
              "MINIMUM_PAYMENTS                    0\n",
              "PRC_FULL_PAYMENT                    0\n",
              "TENURE                              0\n",
              "dtype: int64"
            ]
          },
          "metadata": {},
          "execution_count": 20
        }
      ],
      "source": [
        "cc.isnull().sum()"
      ]
    },
    {
      "cell_type": "markdown",
      "metadata": {
        "id": "GYmge9ce3HZa"
      },
      "source": [
        "**2. Hierarchial Clustering.**"
      ]
    },
    {
      "cell_type": "markdown",
      "metadata": {
        "id": "jJFTPM1A3f9p"
      },
      "source": [
        "Drop Irrelevant columns to reduce the Dataset;"
      ]
    },
    {
      "cell_type": "code",
      "execution_count": null,
      "metadata": {
        "id": "hUOhEYWp7a8i"
      },
      "outputs": [],
      "source": [
        "data=cc.drop(\"CUST_ID\", axis=1)"
      ]
    },
    {
      "cell_type": "markdown",
      "metadata": {
        "id": "iOLZTowq7m1f"
      },
      "source": [
        "Normalize and reduce the dimensions of the data;"
      ]
    },
    {
      "cell_type": "code",
      "execution_count": null,
      "metadata": {
        "id": "IR5wiGBy7y42"
      },
      "outputs": [],
      "source": [
        "from sklearn.preprocessing import StandardScaler, normalize\n",
        "from sklearn.decomposition import PCA"
      ]
    },
    {
      "cell_type": "code",
      "execution_count": null,
      "metadata": {
        "id": "UgAIHU1m73lP"
      },
      "outputs": [],
      "source": [
        "# Standardize data\n",
        "scaler = StandardScaler() \n",
        "scaled_data = scaler.fit_transform(data) \n",
        "  \n",
        "# Normalizing the Data \n",
        "normalized_data = normalize(scaled_data) \n",
        "  \n",
        "# Converting the numpy array into a pandas DataFrame \n",
        "normalized_data = pd.DataFrame(normalized_data) \n",
        "\n",
        "# Reducing the dimensions of the data \n",
        "pca = PCA(n_components = 2) \n",
        "X_principal = pca.fit_transform(normalized_data) \n",
        "X_principal = pd.DataFrame(X_principal) \n",
        "X_principal.columns = ['P1', 'P2'] "
      ]
    },
    {
      "cell_type": "markdown",
      "metadata": {
        "id": "XWD25W2h8Yb_"
      },
      "source": [
        "Import our clustering algorithm: Agglomerative;"
      ]
    },
    {
      "cell_type": "code",
      "execution_count": null,
      "metadata": {
        "id": "1VCmsi8t8qX-"
      },
      "outputs": [],
      "source": [
        "from sklearn.cluster import AgglomerativeClustering"
      ]
    },
    {
      "cell_type": "markdown",
      "metadata": {
        "id": "4FsPADBG8uLb"
      },
      "source": [
        "Apply Agglomerative Algorithm;"
      ]
    },
    {
      "cell_type": "code",
      "execution_count": null,
      "metadata": {
        "id": "rYWQaPQg81CE"
      },
      "outputs": [],
      "source": [
        "model=AgglomerativeClustering(n_clusters=3, affinity='euclidean', linkage='complete')\n",
        "clust_labels=model.fit_predict(X_principal)"
      ]
    },
    {
      "cell_type": "markdown",
      "metadata": {
        "id": "njvwyO5y850E"
      },
      "source": [
        "Agglomerative Labels;"
      ]
    },
    {
      "cell_type": "code",
      "execution_count": null,
      "metadata": {
        "colab": {
          "base_uri": "https://localhost:8080/",
          "height": 424
        },
        "id": "jiDFouLp8-xD",
        "outputId": "3276cdea-b431-4a1d-a777-dd903a0c9d33"
      },
      "outputs": [
        {
          "output_type": "execute_result",
          "data": {
            "text/plain": [
              "      0\n",
              "0     2\n",
              "1     1\n",
              "2     1\n",
              "3     1\n",
              "4     1\n",
              "...  ..\n",
              "8945  0\n",
              "8946  0\n",
              "8947  0\n",
              "8948  1\n",
              "8949  1\n",
              "\n",
              "[8950 rows x 1 columns]"
            ],
            "text/html": [
              "\n",
              "  <div id=\"df-b116f753-17bb-4c7b-8800-985ee8542718\">\n",
              "    <div class=\"colab-df-container\">\n",
              "      <div>\n",
              "<style scoped>\n",
              "    .dataframe tbody tr th:only-of-type {\n",
              "        vertical-align: middle;\n",
              "    }\n",
              "\n",
              "    .dataframe tbody tr th {\n",
              "        vertical-align: top;\n",
              "    }\n",
              "\n",
              "    .dataframe thead th {\n",
              "        text-align: right;\n",
              "    }\n",
              "</style>\n",
              "<table border=\"1\" class=\"dataframe\">\n",
              "  <thead>\n",
              "    <tr style=\"text-align: right;\">\n",
              "      <th></th>\n",
              "      <th>0</th>\n",
              "    </tr>\n",
              "  </thead>\n",
              "  <tbody>\n",
              "    <tr>\n",
              "      <th>0</th>\n",
              "      <td>2</td>\n",
              "    </tr>\n",
              "    <tr>\n",
              "      <th>1</th>\n",
              "      <td>1</td>\n",
              "    </tr>\n",
              "    <tr>\n",
              "      <th>2</th>\n",
              "      <td>1</td>\n",
              "    </tr>\n",
              "    <tr>\n",
              "      <th>3</th>\n",
              "      <td>1</td>\n",
              "    </tr>\n",
              "    <tr>\n",
              "      <th>4</th>\n",
              "      <td>1</td>\n",
              "    </tr>\n",
              "    <tr>\n",
              "      <th>...</th>\n",
              "      <td>...</td>\n",
              "    </tr>\n",
              "    <tr>\n",
              "      <th>8945</th>\n",
              "      <td>0</td>\n",
              "    </tr>\n",
              "    <tr>\n",
              "      <th>8946</th>\n",
              "      <td>0</td>\n",
              "    </tr>\n",
              "    <tr>\n",
              "      <th>8947</th>\n",
              "      <td>0</td>\n",
              "    </tr>\n",
              "    <tr>\n",
              "      <th>8948</th>\n",
              "      <td>1</td>\n",
              "    </tr>\n",
              "    <tr>\n",
              "      <th>8949</th>\n",
              "      <td>1</td>\n",
              "    </tr>\n",
              "  </tbody>\n",
              "</table>\n",
              "<p>8950 rows × 1 columns</p>\n",
              "</div>\n",
              "      <button class=\"colab-df-convert\" onclick=\"convertToInteractive('df-b116f753-17bb-4c7b-8800-985ee8542718')\"\n",
              "              title=\"Convert this dataframe to an interactive table.\"\n",
              "              style=\"display:none;\">\n",
              "        \n",
              "  <svg xmlns=\"http://www.w3.org/2000/svg\" height=\"24px\"viewBox=\"0 0 24 24\"\n",
              "       width=\"24px\">\n",
              "    <path d=\"M0 0h24v24H0V0z\" fill=\"none\"/>\n",
              "    <path d=\"M18.56 5.44l.94 2.06.94-2.06 2.06-.94-2.06-.94-.94-2.06-.94 2.06-2.06.94zm-11 1L8.5 8.5l.94-2.06 2.06-.94-2.06-.94L8.5 2.5l-.94 2.06-2.06.94zm10 10l.94 2.06.94-2.06 2.06-.94-2.06-.94-.94-2.06-.94 2.06-2.06.94z\"/><path d=\"M17.41 7.96l-1.37-1.37c-.4-.4-.92-.59-1.43-.59-.52 0-1.04.2-1.43.59L10.3 9.45l-7.72 7.72c-.78.78-.78 2.05 0 2.83L4 21.41c.39.39.9.59 1.41.59.51 0 1.02-.2 1.41-.59l7.78-7.78 2.81-2.81c.8-.78.8-2.07 0-2.86zM5.41 20L4 18.59l7.72-7.72 1.47 1.35L5.41 20z\"/>\n",
              "  </svg>\n",
              "      </button>\n",
              "      \n",
              "  <style>\n",
              "    .colab-df-container {\n",
              "      display:flex;\n",
              "      flex-wrap:wrap;\n",
              "      gap: 12px;\n",
              "    }\n",
              "\n",
              "    .colab-df-convert {\n",
              "      background-color: #E8F0FE;\n",
              "      border: none;\n",
              "      border-radius: 50%;\n",
              "      cursor: pointer;\n",
              "      display: none;\n",
              "      fill: #1967D2;\n",
              "      height: 32px;\n",
              "      padding: 0 0 0 0;\n",
              "      width: 32px;\n",
              "    }\n",
              "\n",
              "    .colab-df-convert:hover {\n",
              "      background-color: #E2EBFA;\n",
              "      box-shadow: 0px 1px 2px rgba(60, 64, 67, 0.3), 0px 1px 3px 1px rgba(60, 64, 67, 0.15);\n",
              "      fill: #174EA6;\n",
              "    }\n",
              "\n",
              "    [theme=dark] .colab-df-convert {\n",
              "      background-color: #3B4455;\n",
              "      fill: #D2E3FC;\n",
              "    }\n",
              "\n",
              "    [theme=dark] .colab-df-convert:hover {\n",
              "      background-color: #434B5C;\n",
              "      box-shadow: 0px 1px 3px 1px rgba(0, 0, 0, 0.15);\n",
              "      filter: drop-shadow(0px 1px 2px rgba(0, 0, 0, 0.3));\n",
              "      fill: #FFFFFF;\n",
              "    }\n",
              "  </style>\n",
              "\n",
              "      <script>\n",
              "        const buttonEl =\n",
              "          document.querySelector('#df-b116f753-17bb-4c7b-8800-985ee8542718 button.colab-df-convert');\n",
              "        buttonEl.style.display =\n",
              "          google.colab.kernel.accessAllowed ? 'block' : 'none';\n",
              "\n",
              "        async function convertToInteractive(key) {\n",
              "          const element = document.querySelector('#df-b116f753-17bb-4c7b-8800-985ee8542718');\n",
              "          const dataTable =\n",
              "            await google.colab.kernel.invokeFunction('convertToInteractive',\n",
              "                                                     [key], {});\n",
              "          if (!dataTable) return;\n",
              "\n",
              "          const docLinkHtml = 'Like what you see? Visit the ' +\n",
              "            '<a target=\"_blank\" href=https://colab.research.google.com/notebooks/data_table.ipynb>data table notebook</a>'\n",
              "            + ' to learn more about interactive tables.';\n",
              "          element.innerHTML = '';\n",
              "          dataTable['output_type'] = 'display_data';\n",
              "          await google.colab.output.renderOutput(dataTable, element);\n",
              "          const docLink = document.createElement('div');\n",
              "          docLink.innerHTML = docLinkHtml;\n",
              "          element.appendChild(docLink);\n",
              "        }\n",
              "      </script>\n",
              "    </div>\n",
              "  </div>\n",
              "  "
            ]
          },
          "metadata": {},
          "execution_count": 26
        }
      ],
      "source": [
        "agglomerative=pd.DataFrame(clust_labels)\n",
        "agglomerative"
      ]
    },
    {
      "cell_type": "markdown",
      "metadata": {
        "id": "2ClIzbIy-VRl"
      },
      "source": [
        "**3. Plot Clusters.**"
      ]
    },
    {
      "cell_type": "code",
      "execution_count": null,
      "metadata": {
        "id": "p2QV2V5Q_kjL"
      },
      "outputs": [],
      "source": [
        "import matplotlib.pyplot as plt"
      ]
    },
    {
      "cell_type": "code",
      "execution_count": null,
      "metadata": {
        "colab": {
          "base_uri": "https://localhost:8080/",
          "height": 265
        },
        "id": "BiHXNSzg_o_q",
        "outputId": "7d6da9bd-d163-40a0-cc5a-15a62ca84ce2"
      },
      "outputs": [
        {
          "output_type": "display_data",
          "data": {
            "text/plain": [
              "<Figure size 432x288 with 1 Axes>"
            ],
            "image/png": "[encoded data removed]"
          },
          "metadata": {
            "needs_background": "light"
          }
        }
      ],
      "source": [
        "plt.scatter(X_principal['P1'], X_principal['P2'],  \n",
        "           c = AgglomerativeClustering(n_clusters = 3).fit_predict(X_principal), cmap =plt.cm.winter) \n",
        "plt.show() "
      ]
    },
    {
      "cell_type": "markdown",
      "metadata": {
        "id": "ZMsrTCgMDZyK"
      },
      "source": [
        "**4. Dendrogram Plot.**"
      ]
    },
    {
      "cell_type": "code",
      "execution_count": 29,
      "metadata": {
        "id": "0XA_bTLDDjiO",
        "colab": {
          "base_uri": "https://localhost:8080/",
          "height": 447
        },
        "outputId": "ddbe73f4-bf4f-4a38-b63a-681a01dcc04f"
      },
      "outputs": [
        {
          "output_type": "display_data",
          "data": {
            "text/plain": [
              "<Figure size 720x504 with 1 Axes>"
            ],
            "image/png": "[encoded data removed]"
          },
          "metadata": {
            "needs_background": "light"
          }
        }
      ],
      "source": [
        "import matplotlib.pyplot as plt\n",
        "import scipy.cluster.hierarchy as shc\n",
        "plt.figure(figsize=(10,7))\n",
        "plt.title(\"Customers' Dendrogram\")\n",
        "dend=shc.dendrogram(shc.linkage(X_principal, method=\"complete\"))"
      ]
    },
    {
      "cell_type": "markdown",
      "source": [
        "**5. K-means Clustering.**"
      ],
      "metadata": {
        "id": "nd6bYRWWGbhd"
      }
    },
    {
      "cell_type": "markdown",
      "source": [
        "Import our clustering algorithm: K-Means;"
      ],
      "metadata": {
        "id": "Fz0Ke2rhG6rH"
      }
    },
    {
      "cell_type": "code",
      "source": [
        "from sklearn.cluster import KMeans"
      ],
      "metadata": {
        "id": "sRGbzm2VHD67"
      },
      "execution_count": 30,
      "outputs": []
    },
    {
      "cell_type": "markdown",
      "source": [
        "Apply K-Means;"
      ],
      "metadata": {
        "id": "ND3KS7kGHNal"
      }
    },
    {
      "cell_type": "code",
      "source": [
        "kmeans=KMeans(n_clusters=4, random_state=0)\n",
        "kmeans.fit(X_principal)"
      ],
      "metadata": {
        "id": "-_QZE58GHW1T",
        "colab": {
          "base_uri": "https://localhost:8080/"
        },
        "outputId": "3d7c9cb5-1f2c-4d9c-ffc7-f6368e80e777"
      },
      "execution_count": 31,
      "outputs": [
        {
          "output_type": "execute_result",
          "data": {
            "text/plain": [
              "KMeans(n_clusters=4, random_state=0)"
            ]
          },
          "metadata": {},
          "execution_count": 31
        }
      ]
    },
    {
      "cell_type": "markdown",
      "source": [
        "K-Means Labels;"
      ],
      "metadata": {
        "id": "-Qu1XeF3IThZ"
      }
    },
    {
      "cell_type": "code",
      "source": [
        "labels=kmeans.labels_\n",
        "labels"
      ],
      "metadata": {
        "id": "H9FtOLnZIY03",
        "colab": {
          "base_uri": "https://localhost:8080/"
        },
        "outputId": "c90ec69b-af98-4be0-ce39-b842ce9f0a24"
      },
      "execution_count": 32,
      "outputs": [
        {
          "output_type": "execute_result",
          "data": {
            "text/plain": [
              "array([2, 0, 3, ..., 1, 2, 1], dtype=int32)"
            ]
          },
          "metadata": {},
          "execution_count": 32
        }
      ]
    },
    {
      "cell_type": "code",
      "source": [
        "clusters = pd.concat([data, pd.DataFrame({\"cluster\":labels})], axis=1)"
      ],
      "metadata": {
        "id": "GTG5GstNJfBU"
      },
      "execution_count": 33,
      "outputs": []
    },
    {
      "cell_type": "code",
      "source": [
        "pca = PCA(2)\n",
        "principalComponents = pca.fit_transform(normalized_data)\n",
        "x, y = principalComponents[:, 0], principalComponents[:, 1]\n",
        "print(principalComponents.shape)\n",
        "colors = {0: \"red\", 1: \"blue\", 2: \"green\", 3: \"yellow\"}"
      ],
      "metadata": {
        "id": "VV18x9qhL0Vn",
        "colab": {
          "base_uri": "https://localhost:8080/"
        },
        "outputId": "68ec3299-69b7-4572-fe89-9eb090b0e872"
      },
      "execution_count": 34,
      "outputs": [
        {
          "output_type": "stream",
          "name": "stdout",
          "text": [
            "(8950, 2)\n"
          ]
        }
      ]
    },
    {
      "cell_type": "code",
      "source": [
        "final_data = pd.DataFrame({\"x\": x, \"y\":y, \"label\":labels})\n",
        "groups = final_data.groupby(labels)"
      ],
      "metadata": {
        "id": "qXSQWa6LMG6l"
      },
      "execution_count": 35,
      "outputs": []
    },
    {
      "cell_type": "markdown",
      "source": [
        "K-Means Centroids;"
      ],
      "metadata": {
        "id": "gdScAE3NMOf0"
      }
    },
    {
      "cell_type": "code",
      "source": [
        "kmeans.predict(X_principal)\n",
        "print(kmeans.cluster_centers_) "
      ],
      "metadata": {
        "id": "Y0jmLOB9MgKQ",
        "colab": {
          "base_uri": "https://localhost:8080/"
        },
        "outputId": "0204f599-5649-4e68-c04f-044a340af354"
      },
      "execution_count": 36,
      "outputs": [
        {
          "output_type": "stream",
          "name": "stdout",
          "text": [
            "[[-0.44251183  0.51698542]\n",
            " [ 0.41990492 -0.31828252]\n",
            " [-0.47893036 -0.29159428]\n",
            " [ 0.56729946  0.33588118]]\n"
          ]
        }
      ]
    },
    {
      "cell_type": "markdown",
      "source": [
        "**6. K best vakue.**"
      ],
      "metadata": {
        "id": "4TqALd_gMs77"
      }
    },
    {
      "cell_type": "code",
      "source": [
        "sum_of_squared_distances = []\n",
        "K= range (1,15)\n",
        "for k in K:\n",
        "    km= KMeans(n_clusters=k)\n",
        "    km=km.fit(final_data)\n",
        "    sum_of_squared_distances.append(km.inertia_)\n",
        "print(sum_of_squared_distances)"
      ],
      "metadata": {
        "id": "mxC5W3s-NQX0",
        "colab": {
          "base_uri": "https://localhost:8080/"
        },
        "outputId": "4fa5aff3-70c1-4be6-88ee-6a37ebdc83ca"
      },
      "execution_count": 37,
      "outputs": [
        {
          "output_type": "stream",
          "name": "stdout",
          "text": [
            "[13861.487631183645, 6298.351631203028, 3269.955242676867, 927.8014927847121, 790.6507899320279, 684.0017756309389, 576.8051804311974, 470.1655961324973, 426.3541619362214, 383.2847134063054, 344.61721903753073, 312.7403482336643, 285.43395955650317, 259.02624074322404]\n"
          ]
        }
      ]
    },
    {
      "cell_type": "markdown",
      "source": [
        "**7. Plot Clusters.**"
      ],
      "metadata": {
        "id": "zG9g9YE3NvqR"
      }
    },
    {
      "cell_type": "markdown",
      "source": [
        "Elbow method;"
      ],
      "metadata": {
        "id": "tmf-VW-TOAOF"
      }
    },
    {
      "cell_type": "code",
      "source": [
        "plt.plot(K, sum_of_squared_distances, \"bx-\")\n",
        "plt.xlabel(\"k\")\n",
        "plt.ylabel(\"Sum_of_squared_distances\")\n",
        "plt.title(\"Elbow Method for optimal k\")\n",
        "plt.show()"
      ],
      "metadata": {
        "id": "IUN5iGu6OLFC",
        "colab": {
          "base_uri": "https://localhost:8080/",
          "height": 295
        },
        "outputId": "6f491e00-93ce-406f-d6b8-0f1ac87ca58b"
      },
      "execution_count": 38,
      "outputs": [
        {
          "output_type": "display_data",
          "data": {
            "text/plain": [
              "<Figure size 432x288 with 1 Axes>"
            ],
            "image/png": "[encoded data removed]"
          },
          "metadata": {
            "needs_background": "light"
          }
        }
      ]
    },
    {
      "cell_type": "markdown",
      "source": [
        "K-Means Plot;"
      ],
      "metadata": {
        "id": "SDIIf5cYOhMa"
      }
    },
    {
      "cell_type": "code",
      "source": [
        "fig, ax = plt.subplots(figsize=(15, 10))\n",
        "for name, group in groups:\n",
        "  ax.plot(group.x, group.y, marker='o', linestyle='', ms=5, color=colors[name], mec='none')\n",
        "  ax.set_aspect('auto')\n",
        "  ax.tick_params(axis='x',which='both',bottom='off',top='off',labelbottom='off')\n",
        "  ax.tick_params(axis= 'y',which='both',left='off',top='off',labelleft='off')\n",
        "ax.set_title(\"Customers' Segmentation based on their Credit Card usage behavior\")\n",
        "plt.show()"
      ],
      "metadata": {
        "id": "_RRXNbU6P5WI",
        "colab": {
          "base_uri": "https://localhost:8080/",
          "height": 607
        },
        "outputId": "4496bada-dfc4-4449-fefe-f0f6f82ecffe"
      },
      "execution_count": 39,
      "outputs": [
        {
          "output_type": "display_data",
          "data": {
            "text/plain": [
              "<Figure size 1080x720 with 1 Axes>"
            ],
            "image/png": "[encoded data removed]"
          },
          "metadata": {
            "needs_background": "light"
          }
        }
      ]
    },
    {
      "cell_type": "markdown",
      "source": [
        "Both clustering algorithms proved effective in finding the clusters but, K-Means proved efficient in differentiating the clusters. Clusters looked rather muddled up in Hierarchial Clustering as opposed to K-Means.\n",
        "\n",
        "The clear observations from the K-means output are as follows;\n",
        "\n",
        "people represented in red are extravagant spenders although they have a low credit balance.\n",
        "\n",
        "people represented in yellow are prudent spenders although they have a low credit balance.\n",
        "\n",
        "people represented in green are reckless spenders despite their high balance.\n",
        "\n",
        "people represented in blue are low spenders.\n"
      ],
      "metadata": {
        "id": "SIp66W6jQv7y"
      }
    },
    {
      "cell_type": "markdown",
      "source": [
        "Other Validation Metrics;"
      ],
      "metadata": {
        "id": "20qWQ50UiAw1"
      }
    },
    {
      "cell_type": "code",
      "source": [
        "from sklearn.metrics import davies_bouldin_score\n",
        "from sklearn.metrics import silhouette_score\n"
      ],
      "metadata": {
        "id": "joHQW013iJoS"
      },
      "execution_count": 40,
      "outputs": []
    },
    {
      "cell_type": "markdown",
      "source": [
        "The Davis-Bouldin Index is the average similarity between each cluster and the closest cluster. Scores range from 0 and up. 0 indicates better clustering.\n",
        "\n",
        "The Silhouette Coefficient is a value between -1 and 1. The higher the score, the better. 1 indicates tight clusters, and 0 means overlapping clusters.\n"
      ],
      "metadata": {
        "id": "FkQqKL05iUEw"
      }
    },
    {
      "cell_type": "markdown",
      "source": [
        "For Hierarchical Clustering;\n"
      ],
      "metadata": {
        "id": "BWmxoOZ3ieM3"
      }
    },
    {
      "cell_type": "code",
      "source": [
        "print(f'Davies-Bouldin index = {davies_bouldin_score(X_principal, labels)}')\n",
        "print(f'Silhouette Score = {silhouette_score(X_principal, labels)}')\n"
      ],
      "metadata": {
        "id": "hh7KMLmeilbw",
        "colab": {
          "base_uri": "https://localhost:8080/"
        },
        "outputId": "e6112c67-e6fa-42b4-e9c2-d3da3e3b7c28"
      },
      "execution_count": 41,
      "outputs": [
        {
          "output_type": "stream",
          "name": "stdout",
          "text": [
            "Davies-Bouldin index = 0.8102046863404273\n",
            "Silhouette Score = 0.4265144600697577\n"
          ]
        }
      ]
    },
    {
      "cell_type": "markdown",
      "source": [
        "For K-Means;"
      ],
      "metadata": {
        "id": "La52EtKGk4gK"
      }
    },
    {
      "cell_type": "code",
      "source": [
        "print(f'Davies-Bouldin index = {davies_bouldin_score(final_data, labels)}')\n",
        "print(f'Silhouette Score = {silhouette_score(final_data, labels)}')"
      ],
      "metadata": {
        "colab": {
          "base_uri": "https://localhost:8080/"
        },
        "id": "lCrH-jQAk-tR",
        "outputId": "70236c15-5908-4adf-d7ec-9cc886d821d1"
      },
      "execution_count": 42,
      "outputs": [
        {
          "output_type": "stream",
          "name": "stdout",
          "text": [
            "Davies-Bouldin index = 0.4021845761949156\n",
            "Silhouette Score = 0.7256938962607686\n"
          ]
        }
      ]
    },
    {
      "cell_type": "markdown",
      "source": [
        "Taking the results of Davies-Bouldin index and Silhoutte Score into account, K-Means did better than Hierarchial clustering."
      ],
      "metadata": {
        "id": "jU6IS851lJP8"
      }
    }
  ],
  "metadata": {
    "colab": {
      "name": "K-means and Hierarchial Clustering.ipynb",
      "provenance": [],
      "mount_file_id": "1iez8QYLHJv7BtG4fJo7-m3CBOjLtSBu_",
      "authorship_tag": "ABX9TyNGG+6d6ePiXK39g0XIgNKh",
      "include_colab_link": true
    },
    "kernelspec": {
      "display_name": "Python 3",
      "name": "python3"
    },
    "language_info": {
      "name": "python"
    }
  },
  "nbformat": 4,
  "nbformat_minor": 0
}